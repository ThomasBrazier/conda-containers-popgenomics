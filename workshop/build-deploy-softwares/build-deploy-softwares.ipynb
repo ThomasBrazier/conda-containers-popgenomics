{
 "cells": [
  {
   "cell_type": "markdown",
   "metadata": {},
   "source": [
    "# How to build and deploy reproducible environments?"
   ]
  },
  {
   "cell_type": "markdown",
   "metadata": {},
   "source": [
    "This notebook has been produced for a mini workshop about Conda and Docker. It was presented as a seminar for the evo-adapt scientific animation.\n",
    "\n",
    "January 31th 2025"
   ]
  },
  {
   "cell_type": "markdown",
   "metadata": {},
   "source": [
    "## Install with `conda`\n",
    "\n",
    "`conda` is a package manager, mostly known in the `python` programming community (historically it is a package manager for Python packages), but it is now widely used in bio-informatics and can be used to install a large number of softwares with C, C++, Python, R dependencies.\n",
    "\n",
    "Conda installs virtual environments. They are installed in a `~/.conda` directory per default, though it can be configured to be your working directory, or any other directory that makes sense to you."
   ]
  },
  {
   "cell_type": "code",
   "execution_count": 7,
   "metadata": {},
   "outputs": [
    {
     "name": "stdout",
     "output_type": "stream",
     "text": [
      "total 88K\n",
      "drwxr-xr-x.   4 tbrazier UR1 4,0K 10 oct.  17:22 .\n",
      "drwx------.  40 tbrazier UR1 4,0K 20 janv. 11:55 ..\n",
      "-rw-r--r--.   1 tbrazier UR1  563 20 janv. 11:52 environments.txt\n",
      "drwxrwsr-x.  13 tbrazier UR1 4,0K 20 janv. 11:52 envs\n",
      "drwxrwsr-x. 646 tbrazier UR1  68K 20 janv. 11:52 pkgs\n",
      "total 52K\n",
      "drwxrwsr-x. 13 tbrazier UR1 4,0K 20 janv. 11:52 .\n",
      "drwxr-xr-x.  4 tbrazier UR1 4,0K 10 oct.  17:22 ..\n",
      "drwxr-sr-x. 12 tbrazier UR1 4,0K  4 janv. 10:07 bcftools\n",
      "-rw-r--r--.  1 tbrazier UR1    0 10 oct.  17:22 .conda_envs_dir_test\n",
      "drwxr-sr-x.  8 tbrazier UR1 4,0K 17 déc.  14:44 goat\n",
      "drwxr-sr-x. 17 tbrazier UR1 4,0K  4 janv. 13:17 herho\n",
      "drwxr-sr-x. 17 tbrazier UR1 4,0K 16 janv. 14:13 jasminesv\n",
      "total 1,7G\n",
      "drwxrwsr-x. 646 tbrazier UR1  68K 20 janv. 11:52 .\n",
      "drwxr-xr-x.   4 tbrazier UR1 4,0K 10 oct.  17:22 ..\n",
      "drwxr-sr-x.   7 tbrazier UR1 4,0K 10 oct.  17:30 alsa-lib-1.2.12-h4ab18f5_0\n",
      "-rw-r--r--.   1 tbrazier UR1 543K 10 oct.  17:30 alsa-lib-1.2.12-h4ab18f5_0.conda\n",
      "drwxr-sr-x.   7 tbrazier UR1 4,0K  4 janv. 11:10 alsa-lib-1.2.13-hb9d3cd8_0\n",
      "-rw-r--r--.   1 tbrazier UR1 548K  4 janv. 11:10 alsa-lib-1.2.13-hb9d3cd8_0.conda\n",
      "drwxr-sr-x.   4 tbrazier UR1 4,0K 20 janv. 11:52 anyio-4.8.0-pyhd8ed1ab_0\n",
      "ls: erreur d'écriture: Relais brisé (pipe)\n"
     ]
    }
   ],
   "source": [
    "!ls -lha ~/.conda\n",
    "\n",
    "# Virtual envs are in separate directories in `~/.conda/envs/`\n",
    "!ls -lha ~/.conda/envs/ | head -n 8\n",
    "\n",
    "# Package binaries are downloaded and stored in separate directories in `~/.conda/pkgs/`\n",
    "!ls -lha ~/.conda/pkgs/ | head -n 8"
   ]
  },
  {
   "cell_type": "markdown",
   "metadata": {},
   "source": [
    "You don't have to bother about these directories. You manage all your packages and envs through conda commands. Each `conda <command>` has a specific purpose and set of options. The most used commands are `conda create`, `conda install`, `conda remove` and `conda clean`."
   ]
  },
  {
   "cell_type": "code",
   "execution_count": 1,
   "metadata": {},
   "outputs": [
    {
     "name": "stdout",
     "output_type": "stream",
     "text": [
      "usage: conda [-h] [-V] command ...\n",
      "\n",
      "conda is a tool for managing and deploying applications, environments and packages.\n",
      "\n",
      "Options:\n",
      "\n",
      "positional arguments:\n",
      "  command\n",
      "    clean        Remove unused packages and caches.\n",
      "    compare      Compare packages between conda environments.\n",
      "    config       Modify configuration values in .condarc. This is modeled\n",
      "                 after the git config command. Writes to the user .condarc\n",
      "                 file (/home/tbrazier/.condarc) by default.\n",
      "    create       Create a new conda environment from a list of specified\n",
      "                 packages.\n",
      "    info         Display information about current conda install.\n",
      "    init         Initialize conda for shell interaction.\n",
      "    install      Installs a list of packages into a specified conda\n",
      "                 environment.\n",
      "    list         List linked packages in a conda environment.\n",
      "    package      Low-level conda package utility. (EXPERIMENTAL)\n",
      "    remove       Remove a list of packages from a specified conda environment.\n",
      "    rename       Renames an existing environment\n",
      "    run          Run an executable in a conda environment.\n",
      "    search       Search for packages and display associated information. The\n",
      "                 input is a MatchSpec, a query language for conda packages.\n",
      "                 See examples below.\n",
      "    uninstall    Alias for conda remove.\n",
      "    update       Updates conda packages to the latest compatible version.\n",
      "    upgrade      Alias for conda update.\n",
      "    notices      Retrieves latest channel notifications.\n",
      "\n",
      "optional arguments:\n",
      "  -h, --help     Show this help message and exit.\n",
      "  -V, --version  Show the conda version number and exit.\n",
      "\n",
      "conda commands available from other packages:\n",
      "  env\n"
     ]
    }
   ],
   "source": [
    "# conda commands\n",
    "!conda --help"
   ]
  },
  {
   "cell_type": "code",
   "execution_count": null,
   "metadata": {},
   "outputs": [
    {
     "name": "stdout",
     "output_type": "stream",
     "text": [
      "Collecting package metadata (current_repodata.json): ...working... done\n",
      "Solving environment: ...working... done\n",
      "\n",
      "## Package Plan ##\n",
      "\n",
      "  environment location: /home/tbrazier/.conda/envs/workshop\n",
      "\n",
      "  added / updated specs:\n",
      "    - python=3.11\n",
      "\n",
      "\n",
      "The following NEW packages will be INSTALLED:\n",
      "\n",
      "  _libgcc_mutex      pkgs/main/linux-64::_libgcc_mutex-0.1-main\n",
      "  _openmp_mutex      pkgs/main/linux-64::_openmp_mutex-5.1-1_gnu\n",
      "  bzip2              pkgs/main/linux-64::bzip2-1.0.8-h5eee18b_6\n",
      "  ca-certificates    pkgs/main/linux-64::ca-certificates-2024.12.31-h06a4308_0\n",
      "  ld_impl_linux-64   pkgs/main/linux-64::ld_impl_linux-64-2.40-h12ee557_0\n",
      "  libffi             pkgs/main/linux-64::libffi-3.4.4-h6a678d5_1\n",
      "  libgcc-ng          pkgs/main/linux-64::libgcc-ng-11.2.0-h1234567_1\n",
      "  libgomp            pkgs/main/linux-64::libgomp-11.2.0-h1234567_1\n",
      "  libstdcxx-ng       pkgs/main/linux-64::libstdcxx-ng-11.2.0-h1234567_1\n",
      "  libuuid            pkgs/main/linux-64::libuuid-1.41.5-h5eee18b_0\n",
      "  ncurses            pkgs/main/linux-64::ncurses-6.4-h6a678d5_0\n",
      "  openssl            pkgs/main/linux-64::openssl-3.0.15-h5eee18b_0\n",
      "  pip                pkgs/main/linux-64::pip-24.2-py311h06a4308_0\n",
      "  python             pkgs/main/linux-64::python-3.11.11-he870216_0\n",
      "  readline           pkgs/main/linux-64::readline-8.2-h5eee18b_0\n",
      "  setuptools         pkgs/main/linux-64::setuptools-75.1.0-py311h06a4308_0\n",
      "  sqlite             pkgs/main/linux-64::sqlite-3.45.3-h5eee18b_0\n",
      "  tk                 pkgs/main/linux-64::tk-8.6.14-h39e8969_0\n",
      "  tzdata             pkgs/main/noarch::tzdata-2024b-h04d1e81_0\n",
      "  wheel              pkgs/main/linux-64::wheel-0.44.0-py311h06a4308_0\n",
      "  xz                 pkgs/main/linux-64::xz-5.4.6-h5eee18b_1\n",
      "  zlib               pkgs/main/linux-64::zlib-1.2.13-h5eee18b_1\n",
      "\n",
      "\n",
      "Preparing transaction: ...working... done\n",
      "Verifying transaction: ...working... done\n",
      "Executing transaction: ...working... done\n",
      "Retrieving notices: ...working... done\n",
      "\n",
      "Note: you may need to restart the kernel to use updated packages.\n",
      "\n",
      "CommandNotFoundError: Your shell has not been properly configured to use 'conda activate'.\n",
      "To initialize your shell, run\n",
      "\n",
      "    $ conda init <SHELL_NAME>\n",
      "\n",
      "Currently supported shells are:\n",
      "  - bash\n",
      "  - fish\n",
      "  - tcsh\n",
      "  - xonsh\n",
      "  - zsh\n",
      "  - powershell\n",
      "\n",
      "See 'conda init --help' for more information and options.\n",
      "\n",
      "IMPORTANT: You may need to close and restart your shell after running 'conda init'.\n",
      "\n",
      "\n",
      "\n",
      "Note: you may need to restart the kernel to use updated packages.\n",
      "Collecting package metadata (current_repodata.json): ...working... done\n",
      "Solving environment: ...working... done\n",
      "\n",
      "# All requested packages already installed.\n",
      "\n",
      "Retrieving notices: ...working... done\n",
      "\n",
      "Note: you may need to restart the kernel to use updated packages.\n"
     ]
    }
   ],
   "source": [
    "# Create a new virtual env\n",
    "%conda create --yes --quiet --name workshop python=3.11 # Can be long, conda is not fast\n",
    "%conda activate workshop\n",
    "\n",
    "# Install a package\n",
    "%conda install -y -q numpy\n",
    "\n",
    "# Remove a package\n",
    "%conda remove -y numpy"
   ]
  },
  {
   "cell_type": "markdown",
   "metadata": {},
   "source": [
    "You can also manage your conda envs with `conda env <command>`. It is much easier than using directly `conda` commands and allows you to use `.yaml` file to define your future virtual env. This `yaml` file is crucial to keep a trace of what has been installed in your env and to replicate it automatically in another machine/user.\n",
    "\n",
    "A `yaml` is a basic human-readable markup language. It has a simple structure used to define/setup the virtual env."
   ]
  },
  {
   "cell_type": "code",
   "execution_count": null,
   "metadata": {},
   "outputs": [],
   "source": [
    "# Example of a basic yaml file for conda env\n",
    "name: workshop-test-1 # the name of the virtual env\n",
    "channels: # The conda channels where to look for packages\n",
    "    - conda-forge\n",
    "dependencies: # packages to install\n",
    "    - python=3.7 # Specify the required version\n",
    "    - numpy"
   ]
  },
  {
   "cell_type": "code",
   "execution_count": 11,
   "metadata": {},
   "outputs": [
    {
     "name": "stdout",
     "output_type": "stream",
     "text": [
      "usage: conda-env [-h] {create,export,list,remove,update,config} ...\n",
      "\n",
      "positional arguments:\n",
      "  {create,export,list,remove,update,config}\n",
      "    create              Create an environment based on an environment\n",
      "                        definition file. If using an environment.yml file (the\n",
      "                        default), you can name the environment in the first\n",
      "                        line of the file with 'name: envname' or you can\n",
      "                        specify the environment name in the CLI command using\n",
      "                        the -n/--name argument. The name specified in the CLI\n",
      "                        will override the name specified in the\n",
      "                        environment.yml file. Unless you are in the directory\n",
      "                        containing the environment definition file, use -f to\n",
      "                        specify the file path of the environment definition\n",
      "                        file you want to use.\n",
      "    export              Export a given environment\n",
      "    list                List the Conda environments\n",
      "    remove              Remove an environment\n",
      "    update              Update the current environment based on environment\n",
      "                        file\n",
      "    config              Configure a conda environment\n",
      "\n",
      "optional arguments:\n",
      "  -h, --help            Show this help message and exit.\n",
      "\n",
      "conda commands available from other packages:\n",
      "  env\n"
     ]
    }
   ],
   "source": [
    "!conda env --help"
   ]
  },
  {
   "cell_type": "code",
   "execution_count": 13,
   "metadata": {},
   "outputs": [
    {
     "name": "stdout",
     "output_type": "stream",
     "text": [
      "\n",
      "CondaValueError: prefix already exists: /home/tbrazier/.conda/envs/workshop-test-1\n",
      "\n",
      "Collecting package metadata (repodata.json): ...working... done\n",
      "Solving environment: ...working... ^C\n",
      "\n",
      "Remove all packages in environment /home/tbrazier/.conda/envs/workshop-test-1:\n",
      "\n"
     ]
    }
   ],
   "source": [
    "# Create a conda virtual env from a file\n",
    "!conda env create -q -f workshop-test-1.yaml\n",
    "\n",
    "# Update with a new package\n",
    "!conda env update -q -f workshop-test-2.yaml\n",
    "\n",
    "!conda env remove -n workshop-test-1"
   ]
  },
  {
   "cell_type": "markdown",
   "metadata": {},
   "source": [
    "After you have installed your `conda` packages, it is good practice to do `conda clean` to remove all cached tarballs and unused packages (remember, they are in `~/.conda/pkgs/). These packages are decompressed in a lot of small files and you can have quota issues on a cluster due to all these files.\n",
    "\n",
    "Note that having all your envs defined in `yaml` files is really a time-saver. You can safely remove envs on your cluster to save space and recompile them easily when needed."
   ]
  },
  {
   "cell_type": "code",
   "execution_count": 14,
   "metadata": {},
   "outputs": [
    {
     "name": "stdout",
     "output_type": "stream",
     "text": [
      "Will remove 682 (1.79 GB) tarball(s).\n",
      "Proceed ([y]/n)? ^C\n",
      "\n",
      "CondaSystemExit: \n",
      "Operation aborted.  Exiting.\n",
      "\n"
     ]
    }
   ],
   "source": [
    "!conda clean -y --all"
   ]
  },
  {
   "cell_type": "markdown",
   "metadata": {},
   "source": [
    "### Advanced. Complex conda env"
   ]
  },
  {
   "cell_type": "markdown",
   "metadata": {},
   "source": [
    "With `conda env` and `yaml` files you can configure complex environments. You can include `pip` packages (another Python package manager), `R` packages, `C` libraries, Unix command line softwares."
   ]
  },
  {
   "cell_type": "code",
   "execution_count": 15,
   "metadata": {},
   "outputs": [
    {
     "name": "stdout",
     "output_type": "stream",
     "text": [
      "# Example of a complex yaml file for conda env\n",
      "name: workshop-test-complex # the name of the virtual env\n",
      "channels:\n",
      "  - mamba\n",
      "  - conda-forge\n",
      "  - bioconda\n",
      "dependencies:\n",
      "  - git # Unix software\n",
      "  - r-base # R\n",
      "  - jq\n",
      "  - bcftools # bioinformatic software\n",
      "  - vcftools # bioinformatic software\n",
      "  - samtools # bioinformatic software\n",
      "  - htslib # bioinformatic library\n",
      "  - blas\n",
      "  - cyvcf2\n",
      "  - gsl # GNU scientific library in C\n",
      "  - openssl>1.0 # Unix software\n",
      "  - pip # pip package manager\n",
      "  - python=3.8\n",
      "  - pip: # install with pip - not in conda or dependencies for github installs\n",
      "    - cython\n",
      "    - msprime\n",
      "    - numba\n",
      "    - numpy\n",
      "    - scikit-learn\n",
      "    - pandas\n",
      "    - \"--editable=git+https://github.com/popgenmethods/ldpop.git#egg=ldpop\" # Install directly from github\n",
      "    - tskit\n",
      "    - \"--editable=git+https://github.com/popgenmethods/pyrho.git#egg=pyrho\" # Install directly from github\n"
     ]
    }
   ],
   "source": [
    "!cat workshop-test-3.yaml"
   ]
  },
  {
   "cell_type": "markdown",
   "metadata": {},
   "source": [
    "### Advanced. Create your own conda recipe"
   ]
  },
  {
   "cell_type": "markdown",
   "metadata": {},
   "source": []
  },
  {
   "cell_type": "code",
   "execution_count": null,
   "metadata": {},
   "outputs": [],
   "source": []
  },
  {
   "cell_type": "markdown",
   "metadata": {},
   "source": [
    "## Containers"
   ]
  }
 ],
 "metadata": {
  "kernelspec": {
   "display_name": "jupyterlab",
   "language": "python",
   "name": "python3"
  },
  "language_info": {
   "codemirror_mode": {
    "name": "ipython",
    "version": 3
   },
   "file_extension": ".py",
   "mimetype": "text/x-python",
   "name": "python",
   "nbconvert_exporter": "python",
   "pygments_lexer": "ipython3",
   "version": "3.13.1"
  }
 },
 "nbformat": 4,
 "nbformat_minor": 2
}
